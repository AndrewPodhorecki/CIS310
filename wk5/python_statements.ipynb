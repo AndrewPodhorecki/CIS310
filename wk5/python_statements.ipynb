{
 "cells": [
  {
   "cell_type": "markdown",
   "metadata": {},
   "source": [
    "# Aj Podhorecki\n",
    "## wk5 09/22/2020\n",
    "### Python - Statements (if, else, elif)"
   ]
  },
  {
   "cell_type": "markdown",
   "metadata": {},
   "source": [
    "if condition:\n",
    "    perform action 1\n",
    "elif condition2:\n",
    "    perform action 2\n",
    "else:\n",
    "    perform action 3"
   ]
  },
  {
   "cell_type": "code",
   "execution_count": 1,
   "metadata": {},
   "outputs": [
    {
     "name": "stdout",
     "output_type": "stream",
     "text": [
      "It was correct!\n"
     ]
    }
   ],
   "source": [
    "#indentaiton vary important, do not need brackets, but need \":\"\n",
    "if True:\n",
    "    print(\"It was correct!\")"
   ]
  },
  {
   "cell_type": "code",
   "execution_count": 2,
   "metadata": {},
   "outputs": [
    {
     "name": "stdout",
     "output_type": "stream",
     "text": [
      "High five\n"
     ]
    }
   ],
   "source": [
    "value = 5\n",
    "\n",
    "if value == 5:\n",
    "    print(\"High five\")\n",
    "else:\n",
    "    print(\"Nah\")"
   ]
  },
  {
   "cell_type": "code",
   "execution_count": 3,
   "metadata": {},
   "outputs": [
    {
     "name": "stdout",
     "output_type": "stream",
     "text": [
      "Nah\n"
     ]
    }
   ],
   "source": [
    "value = 6\n",
    "\n",
    "if value == 5:\n",
    "    print(\"High five\")\n",
    "else:\n",
    "    print(\"Nah\")"
   ]
  },
  {
   "cell_type": "code",
   "execution_count": 4,
   "metadata": {},
   "outputs": [
    {
     "name": "stdout",
     "output_type": "stream",
     "text": [
      "You may redo test 2\n"
     ]
    }
   ],
   "source": [
    "test1 = 98\n",
    "test2 = 87\n",
    "\n",
    "if test2 < test1 :\n",
    "    print(\"You may redo test 2\")\n",
    "elif test2 > test1 :\n",
    "    print(\"You may redo test 1\")\n",
    "else:\n",
    "    print(\"Retake either if wanted\")"
   ]
  },
  {
   "cell_type": "code",
   "execution_count": 5,
   "metadata": {},
   "outputs": [
    {
     "name": "stdout",
     "output_type": "stream",
     "text": [
      "You may redo test 1\n"
     ]
    }
   ],
   "source": [
    "test1 = 98\n",
    "test2 = 100\n",
    "\n",
    "if test2 < test1 :\n",
    "    print(\"You may redo test 2\")\n",
    "elif test2 > test1 :\n",
    "    print(\"You may redo test 1\")\n",
    "else:\n",
    "    print(\"Retake either if wanted\")"
   ]
  },
  {
   "cell_type": "code",
   "execution_count": 6,
   "metadata": {},
   "outputs": [
    {
     "name": "stdout",
     "output_type": "stream",
     "text": [
      "Retake either if wanted\n"
     ]
    }
   ],
   "source": [
    "test1 = 98\n",
    "test2 = 98\n",
    "\n",
    "if test2 < test1 :\n",
    "    print(\"You may redo test 2\")\n",
    "elif test2 > test1 :\n",
    "    print(\"You may redo test 1\")\n",
    "else:\n",
    "    print(\"Retake either if wanted\")"
   ]
  },
  {
   "cell_type": "code",
   "execution_count": 7,
   "metadata": {},
   "outputs": [
    {
     "name": "stdout",
     "output_type": "stream",
     "text": [
      "You may redo test 2\n"
     ]
    }
   ],
   "source": [
    "#\n",
    "#\n",
    "#shorthand if statement, can write it in one line\n",
    "\n",
    "test1 = 98\n",
    "test2 = 87\n",
    "\n",
    "if test2 < test1 : print(\"You may redo test 2\")"
   ]
  },
  {
   "cell_type": "code",
   "execution_count": 8,
   "metadata": {},
   "outputs": [
    {
     "name": "stdout",
     "output_type": "stream",
     "text": [
      "You may redo test 1\n"
     ]
    }
   ],
   "source": [
    "#\n",
    "#\n",
    "#shorthand if else\n",
    "\n",
    "test1 = 98\n",
    "test2 = 100\n",
    "\n",
    "print(\"You may redo test 2\") if test1 > test2 else print(\"You may redo test 1\")"
   ]
  },
  {
   "cell_type": "code",
   "execution_count": 9,
   "metadata": {},
   "outputs": [
    {
     "name": "stdout",
     "output_type": "stream",
     "text": [
      "Welcome to Colorado\n"
     ]
    }
   ],
   "source": [
    "s = \"Colorado\"\n",
    "\n",
    "if s == \"Colorado\":\n",
    "    print(\"Welcome to Colorado\")\n",
    "elif s == \"Florida\":\n",
    "    print(\"Welcome to Florida\")\n",
    "else:\n",
    "    print(\"Nah\")"
   ]
  },
  {
   "cell_type": "code",
   "execution_count": 10,
   "metadata": {},
   "outputs": [
    {
     "name": "stdout",
     "output_type": "stream",
     "text": [
      "Both are true\n"
     ]
    }
   ],
   "source": [
    "#\n",
    "#\n",
    "# and\n",
    "s1 = 89\n",
    "s2 = 75\n",
    "s3 = 92\n",
    "\n",
    "if s1 > s2 and s3 > s2:\n",
    "    print(\"Both are true\")"
   ]
  },
  {
   "cell_type": "code",
   "execution_count": 11,
   "metadata": {},
   "outputs": [
    {
     "name": "stdout",
     "output_type": "stream",
     "text": [
      "At least one condition is true\n"
     ]
    }
   ],
   "source": [
    "# or\n",
    "\n",
    "if s1 < s2 or s3 > s2:\n",
    "    print(\"At least one condition is true\")"
   ]
  },
  {
   "cell_type": "code",
   "execution_count": 16,
   "metadata": {},
   "outputs": [
    {
     "name": "stdout",
     "output_type": "stream",
     "text": [
      "above 40\n",
      "also above 60\n"
     ]
    }
   ],
   "source": [
    "# nested if statements\n",
    "\n",
    "s1 = 80\n",
    "\n",
    "if s1 > 40:\n",
    "    print(\"above 40\")\n",
    "    if s1 > 60:\n",
    "        print(\"also above 60\")\n",
    "    else:\n",
    "        print(\"Not above 60\")"
   ]
  },
  {
   "cell_type": "code",
   "execution_count": 17,
   "metadata": {},
   "outputs": [],
   "source": [
    "# put 'pass' to avoid error if want to do nothing with if statement\n",
    "\n",
    "if s1 > 60:\n",
    "    pass"
   ]
  },
  {
   "cell_type": "code",
   "execution_count": null,
   "metadata": {},
   "outputs": [],
   "source": []
  }
 ],
 "metadata": {
  "kernelspec": {
   "display_name": "Python 3.7 - default",
   "language": "python",
   "name": "py37_default"
  },
  "language_info": {
   "codemirror_mode": {
    "name": "ipython",
    "version": 3
   },
   "file_extension": ".py",
   "mimetype": "text/x-python",
   "name": "python",
   "nbconvert_exporter": "python",
   "pygments_lexer": "ipython3",
   "version": "3.7.7"
  }
 },
 "nbformat": 4,
 "nbformat_minor": 4
}
