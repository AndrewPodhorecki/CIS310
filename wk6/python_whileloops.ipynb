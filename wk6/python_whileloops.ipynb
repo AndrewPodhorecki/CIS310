{
 "cells": [
  {
   "cell_type": "markdown",
   "metadata": {},
   "source": [
    "# Aj Podhorecki\n",
    "## wk6 09/29/2020\n",
    "### Python - While Loops"
   ]
  },
  {
   "cell_type": "code",
   "execution_count": 1,
   "metadata": {},
   "outputs": [],
   "source": [
    "# **The general format:**\n",
    "#\n",
    "# while test:\n",
    "#   statements"
   ]
  },
  {
   "cell_type": "code",
   "execution_count": 2,
   "metadata": {},
   "outputs": [
    {
     "name": "stdout",
     "output_type": "stream",
     "text": [
      "1\n",
      "2\n",
      "3\n",
      "4\n",
      "5\n"
     ]
    }
   ],
   "source": [
    "num = 1\n",
    "\n",
    "while num < 6:\n",
    "    print(num)\n",
    "    num +=1"
   ]
  },
  {
   "cell_type": "code",
   "execution_count": 3,
   "metadata": {},
   "outputs": [
    {
     "name": "stdout",
     "output_type": "stream",
     "text": [
      "num is currently: 1\n",
      "num is currently: 2\n",
      "num is currently: 3\n",
      "num is currently: 4\n",
      "num is currently: 5\n"
     ]
    }
   ],
   "source": [
    "num = 1\n",
    "\n",
    "while num < 6:\n",
    "    print('num is currently:', num)\n",
    "    num +=1"
   ]
  },
  {
   "cell_type": "code",
   "execution_count": 4,
   "metadata": {},
   "outputs": [
    {
     "name": "stdout",
     "output_type": "stream",
     "text": [
      "num is currently: 1\n",
      "num is currently: 2\n",
      "num is currently: 3\n",
      "num is currently: 4\n",
      "num is currently: 5\n",
      "num is currently: 6\n"
     ]
    }
   ],
   "source": [
    "#else will print what happens when condition is not true\n",
    "num = 1\n",
    "\n",
    "while num < 6:\n",
    "    print('num is currently:', num)\n",
    "    num +=1\n",
    "else:\n",
    "    print('num is currently:', num)"
   ]
  },
  {
   "cell_type": "code",
   "execution_count": 5,
   "metadata": {},
   "outputs": [
    {
     "name": "stdout",
     "output_type": "stream",
     "text": [
      "num is currently: 1\n",
      "num is currently: 2\n",
      "num is currently: 3\n",
      "num is currently: 4\n"
     ]
    }
   ],
   "source": [
    "#stops at 5\n",
    "num = 1\n",
    "\n",
    "while num < 10:\n",
    "    if num == 5:\n",
    "        break\n",
    "    print('num is currently:', num)\n",
    "    num +=1"
   ]
  },
  {
   "cell_type": "code",
   "execution_count": 8,
   "metadata": {},
   "outputs": [
    {
     "name": "stdout",
     "output_type": "stream",
     "text": [
      "num is currently: 1\n",
      "num is currently: 2\n",
      "num is currently: 3\n",
      "num is currently: 4\n",
      "num is currently: 6\n",
      "num is currently: 7\n",
      "num is currently: 8\n",
      "num is currently: 9\n",
      "num is currently: 10\n"
     ]
    }
   ],
   "source": [
    "#skips 5\n",
    "num = 0\n",
    "\n",
    "while num < 10:\n",
    "    num +=1\n",
    "    if num == 5:\n",
    "        continue\n",
    "    else:\n",
    "        print('num is currently:', num)"
   ]
  },
  {
   "cell_type": "code",
   "execution_count": 9,
   "metadata": {},
   "outputs": [
    {
     "name": "stdout",
     "output_type": "stream",
     "text": [
      "num is currently: 1\n",
      "num is currently: 2\n",
      "num is currently: 3\n",
      "num is currently: 4\n",
      "num is currently: 6\n",
      "num is currently: 7\n",
      "num is currently: 8\n",
      "num is currently: 9\n",
      "num is currently: 10\n"
     ]
    }
   ],
   "source": [
    "#skips 5 using pass\n",
    "num = 0\n",
    "\n",
    "while num < 10:\n",
    "    num +=1\n",
    "    if num == 5:\n",
    "        pass\n",
    "    else:\n",
    "        print('num is currently:', num)"
   ]
  },
  {
   "cell_type": "code",
   "execution_count": 10,
   "metadata": {},
   "outputs": [
    {
     "name": "stdout",
     "output_type": "stream",
     "text": [
      "num is currently: 1\n",
      "num is currently: 3\n",
      "num is currently: 5\n",
      "num is currently: 7\n",
      "num is currently: 9\n"
     ]
    }
   ],
   "source": [
    "#prints odd numbers (kinda confusing w else, does opposite in a way)\n",
    "num = 0\n",
    "\n",
    "while num < 10:\n",
    "    num +=1\n",
    "    if num % 2 == 0:\n",
    "        pass\n",
    "    else:\n",
    "        print('num is currently:', num)"
   ]
  },
  {
   "cell_type": "code",
   "execution_count": 11,
   "metadata": {},
   "outputs": [
    {
     "name": "stdout",
     "output_type": "stream",
     "text": [
      "num is currently: 2\n",
      "num is currently: 4\n",
      "num is currently: 6\n",
      "num is currently: 8\n",
      "num is currently: 10\n"
     ]
    }
   ],
   "source": [
    "#prints even numbers (kinda confusing w else, does opposite in a way)\n",
    "num = 0\n",
    "\n",
    "while num < 10:\n",
    "    num +=1\n",
    "    if num % 2 == 1:\n",
    "        pass\n",
    "    else:\n",
    "        print('num is currently:', num)"
   ]
  },
  {
   "cell_type": "code",
   "execution_count": 13,
   "metadata": {},
   "outputs": [
    {
     "name": "stdout",
     "output_type": "stream",
     "text": [
      "num is currently: 1\n",
      "num is currently: 3\n",
      "num is currently: 5\n",
      "num is currently: 7\n",
      "num is currently: 9\n"
     ]
    }
   ],
   "source": [
    "#prints odd numbers\n",
    "num = 0\n",
    "\n",
    "while num < 10:\n",
    "    num +=1\n",
    "    if num % 2 == 1:\n",
    "        print('num is currently:', num)"
   ]
  },
  {
   "cell_type": "code",
   "execution_count": 14,
   "metadata": {},
   "outputs": [
    {
     "name": "stdout",
     "output_type": "stream",
     "text": [
      "num is currently: 2\n",
      "num is currently: 4\n",
      "num is currently: 6\n",
      "num is currently: 8\n",
      "num is currently: 10\n"
     ]
    }
   ],
   "source": [
    "#prints even numbers\n",
    "num = 0\n",
    "\n",
    "while num < 10:\n",
    "    num +=1\n",
    "    if num % 2 == 0:\n",
    "        print('num is currently:', num)"
   ]
  },
  {
   "cell_type": "code",
   "execution_count": null,
   "metadata": {},
   "outputs": [],
   "source": []
  }
 ],
 "metadata": {
  "kernelspec": {
   "display_name": "Python 3.7 - default",
   "language": "python",
   "name": "py37_default"
  },
  "language_info": {
   "codemirror_mode": {
    "name": "ipython",
    "version": 3
   },
   "file_extension": ".py",
   "mimetype": "text/x-python",
   "name": "python",
   "nbconvert_exporter": "python",
   "pygments_lexer": "ipython3",
   "version": "3.7.7"
  }
 },
 "nbformat": 4,
 "nbformat_minor": 4
}
